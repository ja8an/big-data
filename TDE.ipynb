{
  "cells": [
    {
      "cell_type": "markdown",
      "metadata": {
        "id": "view-in-github",
        "colab_type": "text"
      },
      "source": [
        "<a href=\"https://colab.research.google.com/github/ja8an/big-data/blob/main/TDE.ipynb\" target=\"_parent\"><img src=\"https://colab.research.google.com/assets/colab-badge.svg\" alt=\"Open In Colab\"/></a>"
      ]
    },
    {
      "cell_type": "code",
      "execution_count": 11,
      "metadata": {
        "colab": {
          "base_uri": "https://localhost:8080/"
        },
        "id": "f7rp0f3NimDw",
        "outputId": "8561280c-c2c1-4174-e30e-5ab6481e6d69"
      },
      "outputs": [
        {
          "output_type": "stream",
          "name": "stdout",
          "text": [
            "--2022-10-24 09:17:56--  https://github.com/ja8an/big-data/blob/main/in/transactions_amostra.csv?raw=true\n",
            "Resolving github.com (github.com)... 140.82.113.3\n",
            "Connecting to github.com (github.com)|140.82.113.3|:443... connected.\n",
            "HTTP request sent, awaiting response... 302 Found\n",
            "Location: https://github.com/ja8an/big-data/raw/main/in/transactions_amostra.csv [following]\n",
            "--2022-10-24 09:17:56--  https://github.com/ja8an/big-data/raw/main/in/transactions_amostra.csv\n",
            "Reusing existing connection to github.com:443.\n",
            "HTTP request sent, awaiting response... 302 Found\n",
            "Location: https://media.githubusercontent.com/media/ja8an/big-data/main/in/transactions_amostra.csv [following]\n",
            "--2022-10-24 09:17:56--  https://media.githubusercontent.com/media/ja8an/big-data/main/in/transactions_amostra.csv\n",
            "Resolving media.githubusercontent.com (media.githubusercontent.com)... 185.199.108.133, 185.199.109.133, 185.199.110.133, ...\n",
            "Connecting to media.githubusercontent.com (media.githubusercontent.com)|185.199.108.133|:443... connected.\n",
            "HTTP request sent, awaiting response... 200 OK\n",
            "Length: 353513355 (337M) [text/plain]\n",
            "Saving to: ‘transactions.csv’\n",
            "\n",
            "nsactions.csv       100%[===================>] 337.14M   183MB/s    in 1.8s    \n",
            "\n",
            "2022-10-24 09:17:58 (183 MB/s) - ‘transactions.csv’ saved [353513355/353513355]\n",
            "\n"
          ]
        }
      ],
      "source": [
        "!wget -P -Q https://github.com/ja8an/big-data/blob/main/in/transactions_amostra.csv?raw=true -O transactions.csv\n",
        "!pip install -q findspark\n",
        "import findspark\n",
        "findspark.init()\n",
        "!pip install -q pyspark\n",
        "from pyspark import SparkConf, SparkContext, SparkFiles\n",
        "\n",
        "conf = SparkConf().setAppName(\"teste\").setMaster(\"local[*]\")\n",
        "sc = SparkContext.getOrCreate(conf = conf)"
      ]
    },
    {
      "cell_type": "code",
      "source": [
        "dataset = sc.textFile(\"/content/transactions.csv\")\n",
        "dataset = dataset.flatMap(lambda line : line.split('\\n'))\n",
        "dataset = dataset.filter(lambda line : line.strip() != 'country_or_area;year;comm_code;commodity;flow;trade_usd;weight_kg;quantity_name;quantity;category')\n",
        "dataset = dataset.map(lambda cols : cols.split(';'))"
      ],
      "metadata": {
        "id": "HKTZYEwsjhRR"
      },
      "execution_count": 12,
      "outputs": []
    },
    {
      "cell_type": "code",
      "source": [
        "def sum(a, b):\n",
        "  if type(a) is tuple and type(b) is tuple:\n",
        "    return (a[0] + b[0], a[1] + b[1])\n",
        "  return a + b"
      ],
      "metadata": {
        "id": "QgkJrVxZn9UR"
      },
      "execution_count": 13,
      "outputs": []
    },
    {
      "cell_type": "markdown",
      "source": [
        "(Easy) The number of transactions involving Brazil;"
      ],
      "metadata": {
        "id": "0JhZa_wzkYrB"
      }
    },
    {
      "cell_type": "code",
      "source": [
        "dataset.map(lambda cols : (cols[0], 1)).filter(lambda a : a[0] == 'Brazil').reduceByKey(sum).first()"
      ],
      "metadata": {
        "colab": {
          "base_uri": "https://localhost:8080/"
        },
        "id": "gHBx5ZibkWui",
        "outputId": "1781a22e-dd23-4754-9227-27682695e2b1"
      },
      "execution_count": 14,
      "outputs": [
        {
          "output_type": "execute_result",
          "data": {
            "text/plain": [
              "('Brazil', 54762)"
            ]
          },
          "metadata": {},
          "execution_count": 14
        }
      ]
    },
    {
      "cell_type": "markdown",
      "source": [
        "(Easy) The number of transactions per year;"
      ],
      "metadata": {
        "id": "G5PGvnuKnu5J"
      }
    },
    {
      "cell_type": "code",
      "source": [
        "dataset.map(lambda cols : (cols[1], 1)).reduceByKey(sum).take(5)"
      ],
      "metadata": {
        "colab": {
          "base_uri": "https://localhost:8080/"
        },
        "id": "qH33f_wTmHpJ",
        "outputId": "1b40f040-08f1-47ac-af6d-801e2ed511ba"
      },
      "execution_count": 15,
      "outputs": [
        {
          "output_type": "execute_result",
          "data": {
            "text/plain": [
              "[('2011', 105486),\n",
              " ('1991', 22652),\n",
              " ('2005', 105913),\n",
              " ('1999', 86191),\n",
              " ('2000', 97572)]"
            ]
          },
          "metadata": {},
          "execution_count": 15
        }
      ]
    },
    {
      "cell_type": "markdown",
      "source": [
        "(Easy) The number of transactions per flow type and year;"
      ],
      "metadata": {
        "id": "Sa3SCEF_oMwR"
      }
    },
    {
      "cell_type": "code",
      "source": [
        "dataset.map(lambda cols: ((cols[4], cols[1]), 1)).reduceByKey(sum).take(5)"
      ],
      "metadata": {
        "colab": {
          "base_uri": "https://localhost:8080/"
        },
        "id": "mbqGLW0GoK1R",
        "outputId": "9c43b367-bc84-4da6-b913-260bed746d78"
      },
      "execution_count": 16,
      "outputs": [
        {
          "output_type": "execute_result",
          "data": {
            "text/plain": [
              "[(('Export', '2016'), 30538),\n",
              " (('Export', '1996'), 25472),\n",
              " (('Import', '2013'), 61273),\n",
              " (('Export', '2015'), 35759),\n",
              " (('Import', '1999'), 52260)]"
            ]
          },
          "metadata": {},
          "execution_count": 16
        }
      ]
    },
    {
      "cell_type": "markdown",
      "source": [
        "(Easy) The average of commodity values per year;"
      ],
      "metadata": {
        "id": "bbDXIx2poNX5"
      }
    },
    {
      "cell_type": "code",
      "source": [
        "_map = dataset.map(lambda cols: (cols[1], (float(cols[5]), 1)))\n",
        "_sum = _map.reduceByKey(sum)\n",
        "_mean = _sum.mapValues(lambda a: a[0] / a[1])\n",
        "_mean.take(5)"
      ],
      "metadata": {
        "colab": {
          "base_uri": "https://localhost:8080/"
        },
        "id": "C9ORCVryraTh",
        "outputId": "ab4bc720-02d8-4edb-9768-7e5c3066c9dc"
      },
      "execution_count": 17,
      "outputs": [
        {
          "output_type": "execute_result",
          "data": {
            "text/plain": [
              "[('2011', 37056771.709060915),\n",
              " ('1991', 12069165.192609925),\n",
              " ('2005', 17458172.20780263),\n",
              " ('1999', 9328194.404264946),\n",
              " ('2000', 12780250.522332227)]"
            ]
          },
          "metadata": {},
          "execution_count": 17
        }
      ]
    },
    {
      "cell_type": "markdown",
      "source": [
        "(Easy) The average price of commodities per unit type, year, and category in the export flow in Brazil;"
      ],
      "metadata": {
        "id": "NDlXefunt1MB"
      }
    },
    {
      "cell_type": "code",
      "source": [
        "_filter = dataset.filter(lambda cols: cols[0] == 'Brazil' and cols[4] == 'Export')\n",
        "_map = _filter.map(lambda cols: ((cols[7], cols[1], cols[9]), (float(cols[5]), 1)))\n",
        "_sum = _map.reduceByKey(sum)\n",
        "_mean = _sum.mapValues(lambda a: a[0] / a[1])\n",
        "_mean.take(5)"
      ],
      "metadata": {
        "colab": {
          "base_uri": "https://localhost:8080/"
        },
        "id": "vF60EZELtus5",
        "outputId": "0ab408bc-0801-40d5-e96b-a0c61a2c262f"
      },
      "execution_count": 18,
      "outputs": [
        {
          "output_type": "execute_result",
          "data": {
            "text/plain": [
              "[(('Weight in kilograms', '2009', '37_photographic_or_cinematographic_goods'),\n",
              "  181305.5),\n",
              " (('Weight in kilograms', '2010', '52_cotton'), 1874796.0),\n",
              " (('Weight in kilograms', '2014', '18_cocoa_and_cocoa_preparations'),\n",
              "  76505492.0),\n",
              " (('Weight in kilograms', '2016', '73_articles_of_iron_or_steel'),\n",
              "  5815545.909090909),\n",
              " (('Number of items', '2002', '95_toys_games_sports_requisites'),\n",
              "  120856.42857142857)]"
            ]
          },
          "metadata": {},
          "execution_count": 18
        }
      ]
    },
    {
      "cell_type": "markdown",
      "source": [
        "(Medium) The maximum, minimum, and mean transaction price per unit type and year;"
      ],
      "metadata": {
        "id": "1mWfsQOFwSgR"
      }
    },
    {
      "cell_type": "code",
      "source": [
        "_map = dataset.map(lambda cols: ((cols[7], cols[1]), (float(cols[5]), 1, float(cols[5]), float(cols[5]))))\n",
        "_sum = _map.reduceByKey(lambda a, b: (a[0] + b[0], a[1] + b[1], max(a[2], b[2]), min(a[3], b[3])))\n",
        "_mean = _sum.mapValues(lambda a: {\n",
        "    'mean': a[0] / a[1],\n",
        "    'max': a[2],\n",
        "    'min': a[3]\n",
        "})\n",
        "_mean.take(5)"
      ],
      "metadata": {
        "colab": {
          "base_uri": "https://localhost:8080/"
        },
        "id": "K1UAfYsAwQwZ",
        "outputId": "def3cfdf-2efb-4024-baa9-271bf3a4f3bd"
      },
      "execution_count": 19,
      "outputs": [
        {
          "output_type": "execute_result",
          "data": {
            "text/plain": [
              "[(('Weight in kilograms', '2016'),\n",
              "  {'mean': 27962304.5069153, 'max': 56865611547.0, 'min': 1.0}),\n",
              " (('Weight in kilograms', '2010'),\n",
              "  {'mean': 28822456.939314935, 'max': 105814257878.0, 'min': 1.0}),\n",
              " (('Weight in kilograms', '1990'),\n",
              "  {'mean': 10720973.53031925, 'max': 4480755200.0, 'min': 1.0}),\n",
              " (('Weight in kilograms', '2014'),\n",
              "  {'mean': 41934737.83217836, 'max': 359475936313.0, 'min': 1.0}),\n",
              " (('Weight in kilograms', '2006'),\n",
              "  {'mean': 22895231.261773862, 'max': 262924347374.0, 'min': 1.0})]"
            ]
          },
          "metadata": {},
          "execution_count": 19
        }
      ]
    },
    {
      "cell_type": "markdown",
      "source": [
        "(Hard) The most commercialized commodity (summing the quantities) in 2016, per flow type."
      ],
      "metadata": {
        "id": "imTdBDNXzPSK"
      }
    },
    {
      "cell_type": "code",
      "source": [
        "_filter = dataset.filter(lambda cols: cols[1] == '2016') # Only 2016\n",
        "_map = _filter.map(lambda a: ((a[4], a[3]), float(a[8])))\n",
        "_sum = _map.reduceByKey(sum)\n",
        "_map = _sum.map(lambda a: (a[0][0], (a[0][1], a[1])))\n",
        "_max = _map.reduceByKey(lambda a, b: a if a[1] > b[1] else b)\n",
        "_map = _max.mapValues(lambda a: a[0])\n",
        "_map.collect()"
      ],
      "metadata": {
        "colab": {
          "base_uri": "https://localhost:8080/"
        },
        "id": "LH-8oDo6zQlx",
        "outputId": "17d541fe-eadf-4afd-9e48-53fbe373244e"
      },
      "execution_count": 20,
      "outputs": [
        {
          "output_type": "execute_result",
          "data": {
            "text/plain": [
              "[('Re-Export', 'Safety razor blades, including blanks in strips'),\n",
              " ('Export', 'Ice, snow and potable water not sweetened or flavoure'),\n",
              " ('Re-Import', 'Chem wood pulp, soda/sulphate, non-conifer, bleached'),\n",
              " ('Import', 'Iron ore, concentrate, not iron pyrites,unagglomerate')]"
            ]
          },
          "metadata": {},
          "execution_count": 20
        }
      ]
    }
  ],
  "metadata": {
    "colab": {
      "provenance": [],
      "collapsed_sections": [],
      "authorship_tag": "ABX9TyP3YnIKGSLcARxOjS6hwZ0A",
      "include_colab_link": true
    },
    "kernelspec": {
      "display_name": "Python 3",
      "name": "python3"
    },
    "language_info": {
      "name": "python"
    }
  },
  "nbformat": 4,
  "nbformat_minor": 0
}