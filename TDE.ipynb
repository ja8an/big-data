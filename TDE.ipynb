{
  "cells": [
    {
      "cell_type": "markdown",
      "metadata": {
        "id": "view-in-github",
        "colab_type": "text"
      },
      "source": [
        "<a href=\"https://colab.research.google.com/github/ja8an/big-data/blob/main/TDE.ipynb\" target=\"_parent\"><img src=\"https://colab.research.google.com/assets/colab-badge.svg\" alt=\"Open In Colab\"/></a>"
      ]
    },
    {
      "cell_type": "code",
      "execution_count": null,
      "metadata": {
        "colab": {
          "base_uri": "https://localhost:8080/"
        },
        "id": "MK2WvVxyijOa",
        "outputId": "72af1003-4628-45bc-8c71-0282a459bedb"
      },
      "outputs": [
        {
          "output_type": "stream",
          "name": "stdout",
          "text": [
            "finished :)\n"
          ]
        }
      ],
      "source": [
        "# Run below commands in google colab\n",
        "# install Java8\n",
        "!apt-get install openjdk-8-jdk-headless -qq > /dev/null\n",
        "# download spark3.0.0\n",
        "!wget -q https://dlcdn.apache.org/spark/spark-3.3.0/spark-3.3.0-bin-hadoop3.tgz\n",
        "# unzip it\n",
        "!tar xf spark-3.3.0-bin-hadoop3.tgz\n",
        "# install findspark \n",
        "!pip install -q findspark\n",
        "!pip install -q pyspark\n",
        "\n",
        "!echo \"finished :)\""
      ]
    },
    {
      "cell_type": "code",
      "execution_count": null,
      "metadata": {
        "colab": {
          "base_uri": "https://localhost:8080/"
        },
        "id": "IyFcmiwnik1J",
        "outputId": "b217934d-4327-49b7-b287-d0ee32ea7524"
      },
      "outputs": [
        {
          "output_type": "stream",
          "name": "stdout",
          "text": [
            "env set :)\n"
          ]
        }
      ],
      "source": [
        "import os\n",
        "os.environ[\"JAVA_HOME\"] = \"/usr/lib/jvm/java-8-openjdk-amd64\"\n",
        "os.environ[\"SPARK_HOME\"] = \"/content/spark-3.3.0-bin-hadoop3\"\n",
        "\n",
        "!echo \"env set :)\""
      ]
    },
    {
      "cell_type": "code",
      "execution_count": null,
      "metadata": {
        "colab": {
          "base_uri": "https://localhost:8080/",
          "height": 35
        },
        "id": "f7rp0f3NimDw",
        "outputId": "97afa792-7159-4a79-95fe-a1a548588700"
      },
      "outputs": [
        {
          "output_type": "execute_result",
          "data": {
            "text/plain": [
              "'spark setup'"
            ],
            "application/vnd.google.colaboratory.intrinsic+json": {
              "type": "string"
            }
          },
          "metadata": {},
          "execution_count": 5
        }
      ],
      "source": [
        "import findspark\n",
        "findspark.init()\n",
        "from pyspark import SparkConf, SparkContext, SparkFiles\n",
        "\n",
        "conf = SparkConf().setAppName(\"teste\").setMaster(\"local[*]\")\n",
        "\n",
        "sc = SparkContext.getOrCreate(conf = conf)\n",
        "\n",
        "\"spark setup\""
      ]
    },
    {
      "cell_type": "code",
      "source": [
        "dataset = sc.textFile(\"/content/transactions.csv\")\n",
        "dataset = dataset.flatMap(lambda line : line.split('\\n'))\n",
        "dataset = dataset.filter(lambda line : line.strip() != 'country_or_area;year;comm_code;commodity;flow;trade_usd;weight_kg;quantity_name;quantity;category')\n",
        "dataset = dataset.map(lambda cols : cols.split(';'))"
      ],
      "metadata": {
        "id": "HKTZYEwsjhRR"
      },
      "execution_count": null,
      "outputs": []
    },
    {
      "cell_type": "code",
      "source": [
        "def sum(a, b):\n",
        "  if type(a) is tuple and type(b) is tuple:\n",
        "    return (a[0] + b[0], a[1] + b[1])\n",
        "  return a + b"
      ],
      "metadata": {
        "id": "QgkJrVxZn9UR"
      },
      "execution_count": null,
      "outputs": []
    },
    {
      "cell_type": "markdown",
      "source": [
        "(Easy) The number of transactions involving Brazil;"
      ],
      "metadata": {
        "id": "0JhZa_wzkYrB"
      }
    },
    {
      "cell_type": "code",
      "source": [
        "dataset.map(lambda cols : (cols[0], 1)).filter(lambda a : a[0] == 'Brazil').reduceByKey(sum).first()"
      ],
      "metadata": {
        "colab": {
          "base_uri": "https://localhost:8080/"
        },
        "id": "gHBx5ZibkWui",
        "outputId": "5e89d51c-0d0c-41a4-be08-fef3c1f7d358"
      },
      "execution_count": null,
      "outputs": [
        {
          "output_type": "execute_result",
          "data": {
            "text/plain": [
              "('Brazil', 26918)"
            ]
          },
          "metadata": {},
          "execution_count": 161
        }
      ]
    },
    {
      "cell_type": "markdown",
      "source": [
        "(Easy) The number of transactions per year;"
      ],
      "metadata": {
        "id": "G5PGvnuKnu5J"
      }
    },
    {
      "cell_type": "code",
      "source": [
        "dataset.map(lambda cols : (cols[1], 1)).reduceByKey(sum).take(5)"
      ],
      "metadata": {
        "colab": {
          "base_uri": "https://localhost:8080/"
        },
        "id": "qH33f_wTmHpJ",
        "outputId": "f508de01-f93c-4887-ec37-c60fcd38f08d"
      },
      "execution_count": null,
      "outputs": [
        {
          "output_type": "execute_result",
          "data": {
            "text/plain": [
              "[('2016', 40225),\n",
              " ('2011', 51746),\n",
              " ('2003', 49388),\n",
              " ('1993', 20426),\n",
              " ('2007', 51806)]"
            ]
          },
          "metadata": {},
          "execution_count": 160
        }
      ]
    },
    {
      "cell_type": "markdown",
      "source": [
        "(Easy) The number of transactions per flow type and year;"
      ],
      "metadata": {
        "id": "Sa3SCEF_oMwR"
      }
    },
    {
      "cell_type": "code",
      "source": [
        "dataset.map(lambda cols: ((cols[4], cols[1]), 1)).reduceByKey(sum).take(5)"
      ],
      "metadata": {
        "colab": {
          "base_uri": "https://localhost:8080/"
        },
        "id": "mbqGLW0GoK1R",
        "outputId": "2fe1b7f3-8467-4e70-c8c4-eb7dc931f074"
      },
      "execution_count": null,
      "outputs": [
        {
          "output_type": "execute_result",
          "data": {
            "text/plain": [
              "[(('Import', '2013'), 30070),\n",
              " (('Import', '2010'), 30762),\n",
              " (('Import', '2003'), 29341),\n",
              " (('Export', '2015'), 17370),\n",
              " (('Export', '2014'), 17609)]"
            ]
          },
          "metadata": {},
          "execution_count": 159
        }
      ]
    },
    {
      "cell_type": "markdown",
      "source": [
        "(Easy) The average of commodity values per year;\n",
        "\n",
        "# Aqui agrupa por commodity e ano? não entendir"
      ],
      "metadata": {
        "id": "bbDXIx2poNX5"
      }
    },
    {
      "cell_type": "code",
      "source": [
        "_map = dataset.map(lambda cols: (cols[1], (float(cols[5]), 1)))\n",
        "_sum = _map.reduceByKey(sum)\n",
        "_mean = _sum.mapValues(lambda a: a[0] / a[1])\n",
        "_mean.take(5)"
      ],
      "metadata": {
        "colab": {
          "base_uri": "https://localhost:8080/"
        },
        "id": "C9ORCVryraTh",
        "outputId": "ad6ba82d-f67b-44a2-d458-b2a72ed154d1"
      },
      "execution_count": null,
      "outputs": [
        {
          "output_type": "execute_result",
          "data": {
            "text/plain": [
              "[('2016', 29658304.060758233),\n",
              " ('2011', 33275375.636087812),\n",
              " ('2003', 13082967.865939094),\n",
              " ('1993', 10283984.1527465),\n",
              " ('2007', 23660350.780952014)]"
            ]
          },
          "metadata": {},
          "execution_count": 158
        }
      ]
    },
    {
      "cell_type": "markdown",
      "source": [
        "(Easy) The average price of commodities per unit type, year, and category in the export flow in Brazil;"
      ],
      "metadata": {
        "id": "NDlXefunt1MB"
      }
    },
    {
      "cell_type": "code",
      "source": [
        "_filter = dataset.filter(lambda cols: cols[0] == 'Brazil' and cols[4] == 'Export')\n",
        "_map = _filter.map(lambda cols: ((cols[7], cols[1], cols[9]), (float(cols[5]), 1)))\n",
        "_sum = _map.reduceByKey(sum)\n",
        "_mean = _sum.mapValues(lambda a: a[0] / a[1])\n",
        "_mean.take(5)"
      ],
      "metadata": {
        "colab": {
          "base_uri": "https://localhost:8080/"
        },
        "id": "vF60EZELtus5",
        "outputId": "d2fd2fb6-bf65-4481-a756-1bf7980eb1fa"
      },
      "execution_count": null,
      "outputs": [
        {
          "output_type": "execute_result",
          "data": {
            "text/plain": [
              "[(('Weight in kilograms', '1990', '87_vehicles_other_than_railway_tramway'),\n",
              "  56543736.2),\n",
              " (('Weight in kilograms',\n",
              "   '2010',\n",
              "   '23_residues_wastes_of_food_industry_animal_fodder'),\n",
              "  76.0),\n",
              " (('Weight in kilograms', '1993', '65_headgear_and_parts_thereof'), 340288.5),\n",
              " (('Weight in kilograms', '2009', '72_iron_and_steel'), 12820701.181818182),\n",
              " (('Weight in kilograms', '1993', '83_miscellaneous_articles_of_base_metal'),\n",
              "  2636002.2)]"
            ]
          },
          "metadata": {},
          "execution_count": 157
        }
      ]
    },
    {
      "cell_type": "markdown",
      "source": [
        "(Medium) The maximum, minimum, and mean transaction price per unit type and year;"
      ],
      "metadata": {
        "id": "1mWfsQOFwSgR"
      }
    },
    {
      "cell_type": "code",
      "source": [
        "_map = dataset.map(lambda cols: ((cols[7], cols[1]), (float(cols[5]), 1, float(cols[5]), float(cols[5]))))\n",
        "_sum = _map.reduceByKey(lambda a, b: (a[0] + b[0], a[1] + b[1], max(a[2], b[2]), min(a[3], b[3])))\n",
        "_mean = _sum.mapValues(lambda a: {\n",
        "    'mean': a[0] / a[1],\n",
        "    'max': a[2],\n",
        "    'min': a[3]\n",
        "})\n",
        "_mean.take(5)"
      ],
      "metadata": {
        "colab": {
          "base_uri": "https://localhost:8080/"
        },
        "id": "K1UAfYsAwQwZ",
        "outputId": "421fdd2f-3292-45f1-e91b-e6b830f61b49"
      },
      "execution_count": null,
      "outputs": [
        {
          "output_type": "execute_result",
          "data": {
            "text/plain": [
              "[(('Weight in kilograms', '1996'),\n",
              "  {'mean': 10913516.227066854, 'max': 9884802991.0, 'min': 1.0}),\n",
              " (('Weight in kilograms', '1997'),\n",
              "  {'mean': 8007879.837024995, 'max': 2646628564.0, 'min': 1.0}),\n",
              " (('Weight in kilograms', '2001'),\n",
              "  {'mean': 9043813.308666354, 'max': 10391536933.0, 'min': 1.0}),\n",
              " (('Weight in kilograms', '2005'),\n",
              "  {'mean': 18259614.2783081, 'max': 45281302495.0, 'min': 1.0}),\n",
              " (('Weight in kilograms', '2006'),\n",
              "  {'mean': 19949033.104918696, 'max': 66411903451.0, 'min': 1.0})]"
            ]
          },
          "metadata": {},
          "execution_count": 156
        }
      ]
    },
    {
      "cell_type": "markdown",
      "source": [
        "(Hard) The most commercialized commodity (summing the quantities) in 2016, per flow type."
      ],
      "metadata": {
        "id": "imTdBDNXzPSK"
      }
    },
    {
      "cell_type": "code",
      "source": [
        "_filter = dataset.filter(lambda cols: cols[1] == '2016') # Only 2016\n",
        "_map = _filter.map(lambda a: ((a[4], a[3]), float(a[8])))\n",
        "_sum = _map.reduceByKey(sum)\n",
        "_map = _sum.map(lambda a: (a[0][0], (a[0][1], a[1])))\n",
        "_max = _map.reduceByKey(lambda a, b: a if a[1] > b[1] else b)\n",
        "_map = _max.mapValues(lambda a: a[0])\n",
        "_map.collect()"
      ],
      "metadata": {
        "colab": {
          "base_uri": "https://localhost:8080/"
        },
        "id": "LH-8oDo6zQlx",
        "outputId": "17c83ddf-937b-4e24-abaa-233da94e076e"
      },
      "execution_count": null,
      "outputs": [
        {
          "output_type": "execute_result",
          "data": {
            "text/plain": [
              "[('Export', 'Iron ore, concentrate, not iron pyrites,unagglomerate'),\n",
              " ('Import', 'Petroleum oils, oils from bituminous minerals, crude'),\n",
              " ('Re-Export', 'Safety razor blades, including blanks in strips'),\n",
              " ('Re-Import', 'Chem wood pulp, soda/sulphate, non-conifer, bleached')]"
            ]
          },
          "metadata": {},
          "execution_count": 163
        }
      ]
    }
  ],
  "metadata": {
    "colab": {
      "provenance": [],
      "collapsed_sections": [],
      "authorship_tag": "ABX9TyMCY0Qe97xjVVEVJPzX37ET",
      "include_colab_link": true
    },
    "kernelspec": {
      "display_name": "Python 3",
      "name": "python3"
    },
    "language_info": {
      "name": "python"
    }
  },
  "nbformat": 4,
  "nbformat_minor": 0
}