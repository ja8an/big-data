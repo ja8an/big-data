{
  "nbformat": 4,
  "nbformat_minor": 0,
  "metadata": {
    "colab": {
      "provenance": [],
      "collapsed_sections": [],
      "authorship_tag": "ABX9TyMktuqPzWvn71XDTDo2rm76",
      "include_colab_link": true
    },
    "kernelspec": {
      "name": "python3",
      "display_name": "Python 3"
    },
    "language_info": {
      "name": "python"
    }
  },
  "cells": [
    {
      "cell_type": "markdown",
      "metadata": {
        "id": "view-in-github",
        "colab_type": "text"
      },
      "source": [
        "<a href=\"https://colab.research.google.com/github/ja8an/big-data/blob/main/Apache_Spark.ipynb\" target=\"_parent\"><img src=\"https://colab.research.google.com/assets/colab-badge.svg\" alt=\"Open In Colab\"/></a>"
      ]
    },
    {
      "cell_type": "markdown",
      "source": [
        "## Setup environment"
      ],
      "metadata": {
        "id": "m5NtMB4FJ3IY"
      }
    },
    {
      "cell_type": "code",
      "execution_count": 72,
      "metadata": {
        "colab": {
          "base_uri": "https://localhost:8080/"
        },
        "id": "vYiaI1ogA77K",
        "outputId": "cd43916d-c852-4c1e-c173-0e8a1662ca39"
      },
      "outputs": [
        {
          "output_type": "stream",
          "name": "stdout",
          "text": [
            "finished :)\n"
          ]
        }
      ],
      "source": [
        "# Run below commands in google colab\n",
        "# install Java8\n",
        "!apt-get install openjdk-8-jdk-headless -qq > /dev/null\n",
        "# download spark3.0.0\n",
        "!wget -q https://dlcdn.apache.org/spark/spark-3.3.0/spark-3.3.0-bin-hadoop3.tgz\n",
        "# unzip it\n",
        "!tar xf spark-3.3.0-bin-hadoop3.tgz\n",
        "# install findspark \n",
        "!pip install -q findspark\n",
        "!pip install -q pyspark\n",
        "\n",
        "!echo \"finished :)\""
      ]
    },
    {
      "cell_type": "markdown",
      "source": [
        "## Setup environment variables"
      ],
      "metadata": {
        "id": "H2CUzJmqJ7iX"
      }
    },
    {
      "cell_type": "code",
      "source": [
        "import os\n",
        "os.environ[\"JAVA_HOME\"] = \"/usr/lib/jvm/java-8-openjdk-amd64\"\n",
        "os.environ[\"SPARK_HOME\"] = \"/content/spark-3.3.0-bin-hadoop3\"\n",
        "\n",
        "!echo \"env set :)\""
      ],
      "metadata": {
        "colab": {
          "base_uri": "https://localhost:8080/"
        },
        "id": "1EOyOKzBBCIn",
        "outputId": "3845ebed-6a9f-4ce5-cecf-9b0f95e54b82"
      },
      "execution_count": 73,
      "outputs": [
        {
          "output_type": "stream",
          "name": "stdout",
          "text": [
            "env set :)\n"
          ]
        }
      ]
    },
    {
      "cell_type": "markdown",
      "source": [
        "## Setup Spark"
      ],
      "metadata": {
        "id": "kkWLwHFuJ_lT"
      }
    },
    {
      "cell_type": "code",
      "source": [
        "import findspark\n",
        "findspark.init()"
      ],
      "metadata": {
        "id": "_Xb6BWqpL19l"
      },
      "execution_count": 74,
      "outputs": []
    },
    {
      "cell_type": "code",
      "source": [
        "from pyspark import SparkConf, SparkContext, SparkFiles\n",
        "conf = SparkConf().setAppName(\"teste\").setMaster(\"local[*]\")\n",
        "sc = SparkContext.getOrCreate(conf = conf)\n",
        "\"spark setup\""
      ],
      "metadata": {
        "colab": {
          "base_uri": "https://localhost:8080/",
          "height": 35
        },
        "id": "uaWhRrSJBHYv",
        "outputId": "3b667c86-d72a-4371-d2e1-4a99a7cb0bab"
      },
      "execution_count": 75,
      "outputs": [
        {
          "output_type": "execute_result",
          "data": {
            "text/plain": [
              "'spark setup'"
            ],
            "application/vnd.google.colaboratory.intrinsic+json": {
              "type": "string"
            }
          },
          "metadata": {},
          "execution_count": 75
        }
      ]
    },
    {
      "cell_type": "markdown",
      "source": [
        "# Activities"
      ],
      "metadata": {
        "id": "jILunFOXKDr_"
      }
    },
    {
      "cell_type": "markdown",
      "source": [
        "## WordCount"
      ],
      "metadata": {
        "id": "EYIl96q_HOoD"
      }
    },
    {
      "cell_type": "code",
      "source": [
        "textFile = sc.textFile(\"/content/bible.txt\")\n",
        "words = textFile.flatMap(lambda line : line.split(\" \"))\n",
        "wordCounts = words.map(lambda word : (word, 1))\n",
        "count = wordCounts.reduceByKey(lambda a, b: a + b)\n",
        "\n",
        "count.take(5)"
      ],
      "metadata": {
        "id": "E8OxN6EkHMLh"
      },
      "execution_count": null,
      "outputs": []
    },
    {
      "cell_type": "markdown",
      "source": [
        "## Forest Fire Mean"
      ],
      "metadata": {
        "id": "Nv_VAVrnQg3u"
      }
    },
    {
      "cell_type": "code",
      "source": [
        "dataset = sc.textFile(\"/content/forestfireinput.csv\")\n",
        "\n",
        "lines = dataset.map(lambda line : line.split(\",\"))\n",
        "lines = lines.map(lambda cols: (\"media\", (float(cols[4]), 1)))\n",
        "\n",
        "media = lines.reduceByKey(lambda a, b: [a[0] + b[0], a[1] + b[1]])\n",
        "\n",
        "average = media.mapValues(lambda a: a[0] / a[1])\n",
        "\n",
        "average.first()"
      ],
      "metadata": {
        "id": "mOv4vmkZL4cd"
      },
      "execution_count": null,
      "outputs": []
    },
    {
      "cell_type": "code",
      "source": [
        "dataset = sc.textFile(\"/content/airport.txt\")\n",
        "\n",
        "lines = dataset.map(lambda x : x.split(\"\\t\"))\n",
        "# Latitude 6 - Country 3\n",
        "filter = lines.filter(lambda x: x[3] == 'United States' and float(x[6]) > 40.0)\n",
        "cols = filter.map(lambda x: ','.join(x).upper())\n",
        "cols.take(1)"
      ],
      "metadata": {
        "id": "NAhlLX_a_zGq",
        "outputId": "d26bf9bf-7d51-4191-8f07-50940a57c2b4",
        "colab": {
          "base_uri": "https://localhost:8080/"
        }
      },
      "execution_count": 78,
      "outputs": [
        {
          "output_type": "execute_result",
          "data": {
            "text/plain": [
              "['6890,DOWAGIAC MUNICIPAL AIRPORT,DOWAGIAC,UNITED STATES,C91,\\\\N,41.9929342,-86.1280125,748,-5,U,AMERICA/NEW_YORK']"
            ]
          },
          "metadata": {},
          "execution_count": 78
        }
      ]
    },
    {
      "cell_type": "code",
      "source": [
        "dataset = sc.textFile(\"/content/airport.txt\")\n",
        "\n",
        "lines = dataset.map(lambda x : x.split(\"\\t\"))\n",
        "filter = lines.filter(lambda x: x[3] == 'United States')\n",
        "cols = filter.map(lambda x: float(x[6]))\n",
        "sum = cols.reduce(lambda x, y: x + y)\n",
        "sum / filter.count()"
      ],
      "metadata": {
        "id": "eAPyC7oQGz_C",
        "outputId": "1e0d808d-cf65-4ef9-b464-edd315008a6a",
        "colab": {
          "base_uri": "https://localhost:8080/"
        }
      },
      "execution_count": 79,
      "outputs": [
        {
          "output_type": "execute_result",
          "data": {
            "text/plain": [
              "41.44429158866408"
            ]
          },
          "metadata": {},
          "execution_count": 79
        }
      ]
    },
    {
      "cell_type": "code",
      "source": [],
      "metadata": {
        "id": "-49BxWBRNZcy"
      },
      "execution_count": null,
      "outputs": []
    }
  ]
}