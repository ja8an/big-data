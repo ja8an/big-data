{
  "nbformat": 4,
  "nbformat_minor": 0,
  "metadata": {
    "colab": {
      "provenance": [],
      "collapsed_sections": [],
      "authorship_tag": "ABX9TyNxUi5ry4A3BIxCgS0jDJF+",
      "include_colab_link": true
    },
    "kernelspec": {
      "name": "python3",
      "display_name": "Python 3"
    },
    "language_info": {
      "name": "python"
    }
  },
  "cells": [
    {
      "cell_type": "markdown",
      "metadata": {
        "id": "view-in-github",
        "colab_type": "text"
      },
      "source": [
        "<a href=\"https://colab.research.google.com/github/ja8an/big-data/blob/main/Apache_Spark.ipynb\" target=\"_parent\"><img src=\"https://colab.research.google.com/assets/colab-badge.svg\" alt=\"Open In Colab\"/></a>"
      ]
    },
    {
      "cell_type": "markdown",
      "source": [
        "## Setup environment"
      ],
      "metadata": {
        "id": "m5NtMB4FJ3IY"
      }
    },
    {
      "cell_type": "code",
      "execution_count": 15,
      "metadata": {
        "colab": {
          "base_uri": "https://localhost:8080/"
        },
        "id": "vYiaI1ogA77K",
        "outputId": "61154093-6953-459c-f338-605c55c9557e"
      },
      "outputs": [
        {
          "output_type": "stream",
          "name": "stdout",
          "text": [
            "finished :)\n"
          ]
        }
      ],
      "source": [
        "!pip install -q findspark\n",
        "!pip install -q pyspark\n",
        "\n",
        "!echo \"finished :)\""
      ]
    },
    {
      "cell_type": "markdown",
      "source": [
        "## Setup environment variables"
      ],
      "metadata": {
        "id": "H2CUzJmqJ7iX"
      }
    },
    {
      "cell_type": "code",
      "source": [
        "!wget -P -q https://github.com/ja8an/big-data/blob/main/in/forestfireinput.csv?raw=true -O forestfireinput.csv\n",
        "!wget -P -q https://github.com/ja8an/big-data/blob/main/in/bible.txt?raw=true -O bible.txt\n",
        "!echo \"finished\""
      ],
      "metadata": {
        "id": "O0QCPxSgWvm_",
        "outputId": "72113fca-3b45-4a5a-9886-6ca9ae2f8788",
        "colab": {
          "base_uri": "https://localhost:8080/"
        }
      },
      "execution_count": 43,
      "outputs": [
        {
          "output_type": "stream",
          "name": "stdout",
          "text": [
            "--2022-10-19 22:27:56--  https://github.com/ja8an/big-data/blob/main/in/forestfireinput.csv?raw=true\n",
            "Resolving github.com (github.com)... 140.82.113.4\n",
            "Connecting to github.com (github.com)|140.82.113.4|:443... connected.\n",
            "HTTP request sent, awaiting response... 302 Found\n",
            "Location: https://github.com/ja8an/big-data/raw/main/in/forestfireinput.csv [following]\n",
            "--2022-10-19 22:27:56--  https://github.com/ja8an/big-data/raw/main/in/forestfireinput.csv\n",
            "Reusing existing connection to github.com:443.\n",
            "HTTP request sent, awaiting response... 302 Found\n",
            "Location: https://media.githubusercontent.com/media/ja8an/big-data/main/in/forestfireinput.csv [following]\n",
            "--2022-10-19 22:27:56--  https://media.githubusercontent.com/media/ja8an/big-data/main/in/forestfireinput.csv\n",
            "Resolving media.githubusercontent.com (media.githubusercontent.com)... 185.199.108.133, 185.199.109.133, 185.199.110.133, ...\n",
            "Connecting to media.githubusercontent.com (media.githubusercontent.com)|185.199.108.133|:443... connected.\n",
            "HTTP request sent, awaiting response... 200 OK\n",
            "Length: 25425 (25K) [text/plain]\n",
            "Saving to: ‘forestfireinput.csv’\n",
            "\n",
            "\restfireinput.csv      0%[                    ]       0  --.-KB/s               \restfireinput.csv    100%[===================>]  24.83K  --.-KB/s    in 0.001s  \n",
            "\n",
            "2022-10-19 22:27:56 (17.9 MB/s) - ‘forestfireinput.csv’ saved [25425/25425]\n",
            "\n",
            "--2022-10-19 22:27:56--  https://github.com/ja8an/big-data/blob/main/in/bible.txt?raw=true\n",
            "Resolving github.com (github.com)... 140.82.113.4\n",
            "Connecting to github.com (github.com)|140.82.113.4|:443... connected.\n",
            "HTTP request sent, awaiting response... 302 Found\n",
            "Location: https://github.com/ja8an/big-data/raw/main/in/bible.txt [following]\n",
            "--2022-10-19 22:27:57--  https://github.com/ja8an/big-data/raw/main/in/bible.txt\n",
            "Reusing existing connection to github.com:443.\n",
            "HTTP request sent, awaiting response... 302 Found\n",
            "Location: https://media.githubusercontent.com/media/ja8an/big-data/main/in/bible.txt [following]\n",
            "--2022-10-19 22:27:57--  https://media.githubusercontent.com/media/ja8an/big-data/main/in/bible.txt\n",
            "Resolving media.githubusercontent.com (media.githubusercontent.com)... 185.199.108.133, 185.199.109.133, 185.199.110.133, ...\n",
            "Connecting to media.githubusercontent.com (media.githubusercontent.com)|185.199.108.133|:443... connected.\n",
            "HTTP request sent, awaiting response... 200 OK\n",
            "Length: 4351186 (4.1M) [text/plain]\n",
            "Saving to: ‘bible.txt’\n",
            "\n",
            "le.txt              100%[===================>]   4.15M  --.-KB/s    in 0.08s   \n",
            "\n",
            "2022-10-19 22:27:57 (52.0 MB/s) - ‘bible.txt’ saved [4351186/4351186]\n",
            "\n",
            "finished\n"
          ]
        }
      ]
    },
    {
      "cell_type": "markdown",
      "source": [
        "## Setup Spark"
      ],
      "metadata": {
        "id": "kkWLwHFuJ_lT"
      }
    },
    {
      "cell_type": "code",
      "source": [
        "import findspark\n",
        "findspark.init()"
      ],
      "metadata": {
        "id": "_Xb6BWqpL19l"
      },
      "execution_count": 3,
      "outputs": []
    },
    {
      "cell_type": "code",
      "source": [
        "from pyspark import SparkConf, SparkContext, SparkFiles\n",
        "conf = SparkConf().setAppName(\"teste\").setMaster(\"local[*]\")\n",
        "sc = SparkContext.getOrCreate(conf = conf)\n",
        "\"spark setup\""
      ],
      "metadata": {
        "colab": {
          "base_uri": "https://localhost:8080/",
          "height": 35
        },
        "id": "uaWhRrSJBHYv",
        "outputId": "cbf08369-e5c0-4f7c-8870-e047cceebe70"
      },
      "execution_count": 28,
      "outputs": [
        {
          "output_type": "execute_result",
          "data": {
            "text/plain": [
              "'spark setup'"
            ],
            "application/vnd.google.colaboratory.intrinsic+json": {
              "type": "string"
            }
          },
          "metadata": {},
          "execution_count": 28
        }
      ]
    },
    {
      "cell_type": "code",
      "source": [
        "!git clone https://github.com/ja8an/big-data.git"
      ],
      "metadata": {
        "id": "I_mcM8KqVM7g"
      },
      "execution_count": null,
      "outputs": []
    },
    {
      "cell_type": "markdown",
      "source": [
        "# Activities"
      ],
      "metadata": {
        "id": "jILunFOXKDr_"
      }
    },
    {
      "cell_type": "markdown",
      "source": [
        "## WordCount"
      ],
      "metadata": {
        "id": "EYIl96q_HOoD"
      }
    },
    {
      "cell_type": "code",
      "source": [
        "textFile = sc.textFile(\"/content/bible.txt\")\n",
        "words = textFile.flatMap(lambda line : line.split(\" \"))\n",
        "wordCounts = words.map(lambda word : (word, 1))\n",
        "count = wordCounts.reduceByKey(lambda a, b: a + b)\n",
        "\n",
        "count.take(5)"
      ],
      "metadata": {
        "id": "E8OxN6EkHMLh",
        "outputId": "87b6d5ed-11be-490e-bd86-796b24b955c0",
        "colab": {
          "base_uri": "https://localhost:8080/"
        }
      },
      "execution_count": 44,
      "outputs": [
        {
          "output_type": "execute_result",
          "data": {
            "text/plain": [
              "[('God', 2229), ('created', 38), ('', 27159), ('And', 12735), ('earth', 328)]"
            ]
          },
          "metadata": {},
          "execution_count": 44
        }
      ]
    },
    {
      "cell_type": "markdown",
      "source": [
        "## Forest Fire Mean"
      ],
      "metadata": {
        "id": "Nv_VAVrnQg3u"
      }
    },
    {
      "cell_type": "code",
      "source": [
        "dataset = sc.textFile(\"/content/forestfireinput.csv\")\n",
        "\n",
        "lines = dataset.map(lambda line : line.split(\",\"))\n",
        "lines = lines.map(lambda cols: float(cols[4]))\n",
        "\n",
        "media = lines.reduce(lambda a, b: a + b)\n",
        "\n",
        "average = media / lines.count()\n",
        "\n",
        "average"
      ],
      "metadata": {
        "id": "mOv4vmkZL4cd",
        "outputId": "eff5ef7e-a8a9-43cd-8d64-b92f00a64498",
        "colab": {
          "base_uri": "https://localhost:8080/"
        }
      },
      "execution_count": 45,
      "outputs": [
        {
          "output_type": "execute_result",
          "data": {
            "text/plain": [
              "90.64468085106387"
            ]
          },
          "metadata": {},
          "execution_count": 45
        }
      ]
    },
    {
      "cell_type": "code",
      "source": [
        "dataset = sc.textFile(\"/content/airports.txt\")\n",
        "\n",
        "lines = dataset.map(lambda x : x.split(\"\\t\"))\n",
        "filter = lines.filter(lambda x: x[3] == 'United States' and float(x[6]) > 40.0)\n",
        "cols = filter.map(lambda x: ','.join(x).upper())\n",
        "cols.take(1)"
      ],
      "metadata": {
        "id": "NAhlLX_a_zGq",
        "outputId": "b7e2a914-7b67-4533-d29f-0a06cb5e8165",
        "colab": {
          "base_uri": "https://localhost:8080/"
        }
      },
      "execution_count": 47,
      "outputs": [
        {
          "output_type": "execute_result",
          "data": {
            "text/plain": [
              "['6890,DOWAGIAC MUNICIPAL AIRPORT,DOWAGIAC,UNITED STATES,C91,\\\\N,41.9929342,-86.1280125,748,-5,U,AMERICA/NEW_YORK']"
            ]
          },
          "metadata": {},
          "execution_count": 47
        }
      ]
    },
    {
      "cell_type": "code",
      "source": [
        "dataset = sc.textFile(\"/content/airports.txt\")\n",
        "\n",
        "lines = dataset.map(lambda x : x.split(\"\\t\"))\n",
        "filter = lines.filter(lambda x: x[3] == 'United States')\n",
        "cols = filter.map(lambda x: float(x[6]))\n",
        "sum = cols.reduce(lambda x, y: x + y)\n",
        "sum / filter.count()"
      ],
      "metadata": {
        "id": "eAPyC7oQGz_C",
        "outputId": "047cc9e5-e1bf-4bb4-d50e-50f1b5eeca45",
        "colab": {
          "base_uri": "https://localhost:8080/"
        }
      },
      "execution_count": 49,
      "outputs": [
        {
          "output_type": "execute_result",
          "data": {
            "text/plain": [
              "41.44429158866408"
            ]
          },
          "metadata": {},
          "execution_count": 49
        }
      ]
    },
    {
      "cell_type": "code",
      "source": [
        "dataset = sc.textFile(\"/content/RealState.csv\")\n",
        "\n",
        "lines = dataset.map(lambda x: x.split(',')).filter(lambda x: x[0] != \"MLS\")\n",
        "\n",
        "lines.take(2)"
      ],
      "metadata": {
        "id": "piSrJzVuXdi-",
        "outputId": "e3edb467-eccb-4c53-d826-0ed4a0708e63",
        "colab": {
          "base_uri": "https://localhost:8080/"
        }
      },
      "execution_count": 62,
      "outputs": [
        {
          "output_type": "execute_result",
          "data": {
            "text/plain": [
              "[['132842',\n",
              "  'Arroyo Grande',\n",
              "  '795000.00',\n",
              "  '3',\n",
              "  '3',\n",
              "  '2371',\n",
              "  '335.30',\n",
              "  'Short Sale'],\n",
              " ['134364',\n",
              "  'Paso Robles',\n",
              "  '399000.00',\n",
              "  '4',\n",
              "  '3',\n",
              "  '2818',\n",
              "  '141.59',\n",
              "  'Short Sale']]"
            ]
          },
          "metadata": {},
          "execution_count": 62
        }
      ]
    }
  ]
}