{
  "nbformat": 4,
  "nbformat_minor": 0,
  "metadata": {
    "colab": {
      "provenance": [],
      "collapsed_sections": [],
      "authorship_tag": "ABX9TyNQsWIJQLtnNrNxPCuYgR++",
      "include_colab_link": true
    },
    "kernelspec": {
      "name": "python3",
      "display_name": "Python 3"
    },
    "language_info": {
      "name": "python"
    }
  },
  "cells": [
    {
      "cell_type": "markdown",
      "metadata": {
        "id": "view-in-github",
        "colab_type": "text"
      },
      "source": [
        "<a href=\"https://colab.research.google.com/github/ja8an/big-data/blob/main/Apache_Spark.ipynb\" target=\"_parent\"><img src=\"https://colab.research.google.com/assets/colab-badge.svg\" alt=\"Open In Colab\"/></a>"
      ]
    },
    {
      "cell_type": "markdown",
      "source": [
        "## Setup environment"
      ],
      "metadata": {
        "id": "m5NtMB4FJ3IY"
      }
    },
    {
      "cell_type": "code",
      "execution_count": 3,
      "metadata": {
        "colab": {
          "base_uri": "https://localhost:8080/"
        },
        "id": "vYiaI1ogA77K",
        "outputId": "05d796b4-e4d2-43a8-a41e-66ec99ab989f"
      },
      "outputs": [
        {
          "output_type": "stream",
          "name": "stdout",
          "text": [
            "\u001b[K     |████████████████████████████████| 281.4 MB 50 kB/s \n",
            "\u001b[K     |████████████████████████████████| 199 kB 65.0 MB/s \n",
            "\u001b[?25h  Building wheel for pyspark (setup.py) ... \u001b[?25l\u001b[?25hdone\n",
            "finished :)\n"
          ]
        }
      ],
      "source": [
        "# Run below commands in google colab\n",
        "# install Java8\n",
        "!apt-get install openjdk-8-jdk-headless -qq > /dev/null\n",
        "# download spark3.0.0\n",
        "!wget -q https://dlcdn.apache.org/spark/spark-3.3.0/spark-3.3.0-bin-hadoop3.tgz\n",
        "# unzip it\n",
        "!tar xf spark-3.3.0-bin-hadoop3.tgz\n",
        "# install findspark \n",
        "!pip install -q findspark\n",
        "!pip install -q pyspark\n",
        "\n",
        "!echo \"finished :)\""
      ]
    },
    {
      "cell_type": "code",
      "source": [
        "import os\n",
        "os.environ[\"JAVA_HOME\"] = \"/usr/lib/jvm/java-8-openjdk-amd64\"\n",
        "os.environ[\"SPARK_HOME\"] = \"/content/spark-3.3.0-bin-hadoop3\"\n",
        "\n",
        "!echo \"env set :)\""
      ],
      "metadata": {
        "id": "MEzecWmrI0Bo",
        "outputId": "5f8a57ac-a5f7-4940-8eac-60380003b973",
        "colab": {
          "base_uri": "https://localhost:8080/"
        }
      },
      "execution_count": 4,
      "outputs": [
        {
          "output_type": "stream",
          "name": "stdout",
          "text": [
            "env set :)\n"
          ]
        }
      ]
    },
    {
      "cell_type": "markdown",
      "source": [
        "## Setup environment variables"
      ],
      "metadata": {
        "id": "H2CUzJmqJ7iX"
      }
    },
    {
      "cell_type": "code",
      "source": [
        "!wget -P -q https://github.com/ja8an/big-data/blob/main/in/forestfireinput.csv?raw=true -O forestfireinput.csv\n",
        "!wget -P -q https://github.com/ja8an/big-data/blob/main/in/bible.txt?raw=true -O bible.txt\n",
        "!echo \"finished\""
      ],
      "metadata": {
        "id": "O0QCPxSgWvm_",
        "outputId": "18c71834-1ce0-4484-a551-8cd089a79e0c",
        "colab": {
          "base_uri": "https://localhost:8080/"
        }
      },
      "execution_count": 26,
      "outputs": [
        {
          "output_type": "stream",
          "name": "stdout",
          "text": [
            "--2022-10-25 22:06:25--  https://github.com/ja8an/big-data/blob/main/in/forestfireinput.csv?raw=true\n",
            "Resolving github.com (github.com)... 140.82.112.4\n",
            "Connecting to github.com (github.com)|140.82.112.4|:443... connected.\n",
            "HTTP request sent, awaiting response... 302 Found\n",
            "Location: https://github.com/ja8an/big-data/raw/main/in/forestfireinput.csv [following]\n",
            "--2022-10-25 22:06:25--  https://github.com/ja8an/big-data/raw/main/in/forestfireinput.csv\n",
            "Reusing existing connection to github.com:443.\n",
            "HTTP request sent, awaiting response... 302 Found\n",
            "Location: https://media.githubusercontent.com/media/ja8an/big-data/main/in/forestfireinput.csv [following]\n",
            "--2022-10-25 22:06:25--  https://media.githubusercontent.com/media/ja8an/big-data/main/in/forestfireinput.csv\n",
            "Resolving media.githubusercontent.com (media.githubusercontent.com)... 185.199.108.133, 185.199.109.133, 185.199.110.133, ...\n",
            "Connecting to media.githubusercontent.com (media.githubusercontent.com)|185.199.108.133|:443... connected.\n",
            "HTTP request sent, awaiting response... 200 OK\n",
            "Length: 25425 (25K) [text/plain]\n",
            "Saving to: ‘forestfireinput.csv’\n",
            "\n",
            "estfireinput.csv    100%[===================>]  24.83K  --.-KB/s    in 0s      \n",
            "\n",
            "2022-10-25 22:06:25 (156 MB/s) - ‘forestfireinput.csv’ saved [25425/25425]\n",
            "\n",
            "--2022-10-25 22:06:25--  https://github.com/ja8an/big-data/blob/main/in/bible.txt?raw=true\n",
            "Resolving github.com (github.com)... 140.82.112.4\n",
            "Connecting to github.com (github.com)|140.82.112.4|:443... connected.\n",
            "HTTP request sent, awaiting response... 302 Found\n",
            "Location: https://github.com/ja8an/big-data/raw/main/in/bible.txt [following]\n",
            "--2022-10-25 22:06:25--  https://github.com/ja8an/big-data/raw/main/in/bible.txt\n",
            "Reusing existing connection to github.com:443.\n",
            "HTTP request sent, awaiting response... 302 Found\n",
            "Location: https://media.githubusercontent.com/media/ja8an/big-data/main/in/bible.txt [following]\n",
            "--2022-10-25 22:06:25--  https://media.githubusercontent.com/media/ja8an/big-data/main/in/bible.txt\n",
            "Resolving media.githubusercontent.com (media.githubusercontent.com)... 185.199.108.133, 185.199.109.133, 185.199.110.133, ...\n",
            "Connecting to media.githubusercontent.com (media.githubusercontent.com)|185.199.108.133|:443... connected.\n",
            "HTTP request sent, awaiting response... 200 OK\n",
            "Length: 4351186 (4.1M) [text/plain]\n",
            "Saving to: ‘bible.txt’\n",
            "\n",
            "le.txt              100%[===================>]   4.15M  --.-KB/s    in 0.01s   \n",
            "\n",
            "2022-10-25 22:06:26 (300 MB/s) - ‘bible.txt’ saved [4351186/4351186]\n",
            "\n",
            "finished\n"
          ]
        }
      ]
    },
    {
      "cell_type": "markdown",
      "source": [
        "## Setup Spark"
      ],
      "metadata": {
        "id": "kkWLwHFuJ_lT"
      }
    },
    {
      "cell_type": "code",
      "source": [
        "import findspark\n",
        "findspark.init()"
      ],
      "metadata": {
        "id": "_Xb6BWqpL19l"
      },
      "execution_count": 5,
      "outputs": []
    },
    {
      "cell_type": "code",
      "source": [
        "from pyspark import SparkConf, SparkContext, SparkFiles\n",
        "conf = SparkConf().setAppName(\"teste\").setMaster(\"local[*]\")\n",
        "sc = SparkContext.getOrCreate(conf = conf)\n",
        "\"spark setup\""
      ],
      "metadata": {
        "colab": {
          "base_uri": "https://localhost:8080/",
          "height": 35
        },
        "id": "uaWhRrSJBHYv",
        "outputId": "7c07df03-4efa-4020-b995-5a478742e33b"
      },
      "execution_count": 6,
      "outputs": [
        {
          "output_type": "execute_result",
          "data": {
            "text/plain": [
              "'spark setup'"
            ],
            "application/vnd.google.colaboratory.intrinsic+json": {
              "type": "string"
            }
          },
          "metadata": {},
          "execution_count": 6
        }
      ]
    },
    {
      "cell_type": "code",
      "source": [
        "!git clone https://github.com/ja8an/big-data.git"
      ],
      "metadata": {
        "id": "I_mcM8KqVM7g"
      },
      "execution_count": null,
      "outputs": []
    },
    {
      "cell_type": "markdown",
      "source": [
        "# Activities"
      ],
      "metadata": {
        "id": "jILunFOXKDr_"
      }
    },
    {
      "cell_type": "markdown",
      "source": [
        "## WordCount"
      ],
      "metadata": {
        "id": "EYIl96q_HOoD"
      }
    },
    {
      "cell_type": "code",
      "source": [
        "textFile = sc.textFile(\"/content/bible.txt\")\n",
        "words = textFile.flatMap(lambda line : line.split(\" \"))\n",
        "wordCounts = words.map(lambda word : (word, 1))\n",
        "count = wordCounts.reduceByKey(lambda a, b: a + b)\n",
        "\n",
        "count.take(5)"
      ],
      "metadata": {
        "id": "E8OxN6EkHMLh",
        "outputId": "87b6d5ed-11be-490e-bd86-796b24b955c0",
        "colab": {
          "base_uri": "https://localhost:8080/"
        }
      },
      "execution_count": null,
      "outputs": [
        {
          "output_type": "execute_result",
          "data": {
            "text/plain": [
              "[('God', 2229), ('created', 38), ('', 27159), ('And', 12735), ('earth', 328)]"
            ]
          },
          "metadata": {},
          "execution_count": 44
        }
      ]
    },
    {
      "cell_type": "markdown",
      "source": [
        "## Forest Fire Mean"
      ],
      "metadata": {
        "id": "Nv_VAVrnQg3u"
      }
    },
    {
      "cell_type": "code",
      "source": [
        "dataset = sc.textFile(\"/content/forestfireinput.csv\")\n",
        "\n",
        "lines = dataset.map(lambda line : line.split(\",\"))\n",
        "lines = lines.map(lambda cols: float(cols[4]))\n",
        "\n",
        "media = lines.reduce(lambda a, b: a + b)\n",
        "\n",
        "average = media / lines.count()\n",
        "\n",
        "average"
      ],
      "metadata": {
        "id": "mOv4vmkZL4cd",
        "outputId": "eff5ef7e-a8a9-43cd-8d64-b92f00a64498",
        "colab": {
          "base_uri": "https://localhost:8080/"
        }
      },
      "execution_count": null,
      "outputs": [
        {
          "output_type": "execute_result",
          "data": {
            "text/plain": [
              "90.64468085106387"
            ]
          },
          "metadata": {},
          "execution_count": 45
        }
      ]
    },
    {
      "cell_type": "code",
      "source": [
        "dataset = sc.textFile(\"/content/airports.txt\")\n",
        "\n",
        "lines = dataset.map(lambda x : x.split(\"\\t\"))\n",
        "filter = lines.filter(lambda x: x[3] == 'United States' and float(x[6]) > 40.0)\n",
        "cols = filter.map(lambda x: ','.join(x).upper())\n",
        "cols.take(1)"
      ],
      "metadata": {
        "id": "NAhlLX_a_zGq",
        "outputId": "b7e2a914-7b67-4533-d29f-0a06cb5e8165",
        "colab": {
          "base_uri": "https://localhost:8080/"
        }
      },
      "execution_count": null,
      "outputs": [
        {
          "output_type": "execute_result",
          "data": {
            "text/plain": [
              "['6890,DOWAGIAC MUNICIPAL AIRPORT,DOWAGIAC,UNITED STATES,C91,\\\\N,41.9929342,-86.1280125,748,-5,U,AMERICA/NEW_YORK']"
            ]
          },
          "metadata": {},
          "execution_count": 47
        }
      ]
    },
    {
      "cell_type": "code",
      "source": [
        "dataset = sc.textFile(\"/content/airports.txt\")\n",
        "\n",
        "lines = dataset.map(lambda x : x.split(\"\\t\"))\n",
        "filter = lines.filter(lambda x: x[3] == 'United States')\n",
        "cols = filter.map(lambda x: float(x[6]))\n",
        "sum = cols.reduce(lambda x, y: x + y)\n",
        "sum / filter.count()"
      ],
      "metadata": {
        "id": "eAPyC7oQGz_C",
        "outputId": "047cc9e5-e1bf-4bb4-d50e-50f1b5eeca45",
        "colab": {
          "base_uri": "https://localhost:8080/"
        }
      },
      "execution_count": null,
      "outputs": [
        {
          "output_type": "execute_result",
          "data": {
            "text/plain": [
              "41.44429158866408"
            ]
          },
          "metadata": {},
          "execution_count": 49
        }
      ]
    },
    {
      "cell_type": "code",
      "source": [
        "from functools import reduce\n",
        "\n",
        "dataset = sc.textFile(\"/content/RealState.csv\")\n",
        "\n",
        "lines = dataset.map(lambda x: x.split(',')).filter(lambda x: x[0] != \"MLS\")\n",
        "\n",
        "data = lines.map(lambda x: (int(x[3]), float(x[2])))\n",
        "\n",
        "group = data.groupByKey()\n",
        "\n",
        "def media(x):\n",
        "  t = list(x)\n",
        "  return reduce(lambda x, y: x + y, t) / len(t)\n",
        "\n",
        "group.mapValues(media).sortByKey().collect()"
      ],
      "metadata": {
        "id": "piSrJzVuXdi-",
        "outputId": "4126e6c6-be3c-4c32-b1c3-0baae7164e29",
        "colab": {
          "base_uri": "https://localhost:8080/"
        }
      },
      "execution_count": 27,
      "outputs": [
        {
          "output_type": "execute_result",
          "data": {
            "text/plain": [
              "[(0, 293450.0),\n",
              " (1, 169981.81818181818),\n",
              " (2, 266356.3739837398),\n",
              " (3, 359062.20649651974),\n",
              " (4, 483475.6497175141),\n",
              " (5, 657858.0645161291),\n",
              " (6, 603225.0),\n",
              " (7, 325000.0),\n",
              " (10, 699000.0)]"
            ]
          },
          "metadata": {},
          "execution_count": 27
        }
      ]
    },
    {
      "cell_type": "code",
      "source": [
        "import re\n",
        "\n",
        "dataset = sc.textFile(\"/content/bible.txt\")\n",
        "\n",
        "comp = re.compile(r\"\\W+\")\n",
        "rows = dataset.flatMap(lambda x: comp.split(x.lower()))\n",
        "filt = rows.filter(lambda x: len(x) > 0)\n",
        "words = filt.map(lambda x: (x, 1))\n",
        "output = words.reduceByKey(lambda x, y: x + y).sortBy(lambda x: x[1], ascending=False)\n",
        "\n",
        "# Da pra misturar comandos do linux com o bloco, é só colocar o ! no começo da linha\n",
        "# esse comando força a exclusão (f) da pasta recursivamente (-r)\n",
        "!rm -rf /content/teste\n",
        "output.saveAsTextFile(\"/content/teste\")"
      ],
      "metadata": {
        "id": "SU7Ws0vJLsrE"
      },
      "execution_count": 57,
      "outputs": []
    }
  ]
}